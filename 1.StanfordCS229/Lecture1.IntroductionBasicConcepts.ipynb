{
 "cells": [
  {
   "cell_type": "markdown",
   "metadata": {},
   "source": [
    "## Lecture 1 \n",
    "https://youtu.be/UzxYlbK2c7E  \n",
    "\n",
    "1. prerequisite  \n",
    "computer science (data structure) / coding / linear algebra (matrices, vectors, eigenvector, etc) / \n",
    "2. online resources  \n",
    "[YouTube Lecture Collection 2008] (https://www.youtube.com/playlist?list=PLA89DCFA6ADACE599)  \n",
    "[http://cs229.stanford.edu/](http://cs229.stanford.edu/)  \n",
    "3. coding: Octave  \n",
    "\n",
    "\n",
    "### Machine Learning Definition  \n",
    "Arthur Samuel 1959: field of study that gives computers the ability to learn without being explicitly programmed.  \n",
    "Tom Michell 1998: well posed learning problem -> a computer program is said to learn from experience `E` with respect to some task `T` and some performance measure `P`, if its performance on `T`, as measured by `P`, improves with experience `E`.  \n",
    "\n",
    "\n",
    "### Overview - four major sections \n",
    "1. Supervised Learning  \n",
    "    - regression problem: e.g., houses prices: feet^2 against price  \n",
    "    - classfication problem: breast cancer vs (tumor size / age) -> 1 benign vs 0 malignant  \n",
    "2. Learning Theory  \n",
    "    - how and why algorithms work \n",
    "    - how many training data you need  \n",
    "3. Unsuptervised Learning\n",
    "    - not given the right answer \n",
    "    - e.g., clustering / image processing / social network analysis\n",
    "    - cocktail party problem \n",
    "4. Reinforcement Learning  \n",
    "    - e.g., helicopters fly VS train a dog - good dog / bad dog  "
   ]
  },
  {
   "cell_type": "code",
   "execution_count": null,
   "metadata": {},
   "outputs": [],
   "source": []
  }
 ],
 "metadata": {
  "kernelspec": {
   "display_name": "Python 3",
   "language": "python",
   "name": "python3"
  },
  "language_info": {
   "codemirror_mode": {
    "name": "ipython",
    "version": 3
   },
   "file_extension": ".py",
   "mimetype": "text/x-python",
   "name": "python",
   "nbconvert_exporter": "python",
   "pygments_lexer": "ipython3",
   "version": "3.6.4"
  }
 },
 "nbformat": 4,
 "nbformat_minor": 2
}
